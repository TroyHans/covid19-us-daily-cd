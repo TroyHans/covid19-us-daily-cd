{
 "cells": [
  {
   "cell_type": "markdown",
   "id": "2f5f24a1",
   "metadata": {},
   "source": [
    "## US Covid-19 Daily Cases and Deaths   \n",
    "\n",
    "source: [WHO global covid data](https://covid19.who.int/WHO-COVID-19-global-data.csv) from the WHO Coronavirus (COVID-19) [US Dashboard](https://covid19.who.int/region/amro/country/us)"
   ]
  },
  {
   "cell_type": "markdown",
   "id": "6b7aaf46",
   "metadata": {},
   "source": [
    "##### Imports"
   ]
  },
  {
   "cell_type": "code",
   "execution_count": null,
   "id": "006c3637",
   "metadata": {},
   "outputs": [],
   "source": [
    "#Import libraries\n",
    "\n",
    "import datetime\n",
    "import numpy as np\n",
    "import matplotlib.pyplot as plt\n",
    "import pandas as pd\n",
    "import seaborn as sns\n",
    "\n",
    "%matplotlib inline\n",
    "from plotly.offline import download_plotlyjs, init_notebook_mode, plot, iplot\n",
    "import cufflinks as cf\n",
    "init_notebook_mode(connected=True)\n",
    "cf.go_offline()"
   ]
  },
  {
   "cell_type": "markdown",
   "id": "b6650762",
   "metadata": {},
   "source": [
    "#### Create the directories"
   ]
  },
  {
   "cell_type": "markdown",
   "id": "8dd2fdc8",
   "metadata": {},
   "source": [
    "#### Import the Data"
   ]
  },
  {
   "cell_type": "code",
   "execution_count": null,
   "id": "e11c0a77",
   "metadata": {},
   "outputs": [],
   "source": [
    "# Data dowload url\n",
    "url = 'https://covid19.who.int/WHO-COVID-19-global-data.csv'\n",
    "\n",
    "# Read the data as a dataframe df\n",
    "df = pd.read_csv(url)\n",
    "\n",
    "# Drop the columns I don't need\n",
    "df.drop(['Country', 'WHO_region'], axis=1, inplace=True)\n",
    "\n",
    "# Filter by US data only usdf\n",
    "usdf = df[(df['Country_code'] == 'US') & (df['New_cases'] != 0)]\n",
    "\n",
    "# Display the data head/tail\n",
    "usdf"
   ]
  },
  {
   "cell_type": "markdown",
   "id": "cec1c7e2",
   "metadata": {},
   "source": [
    "#### Summary"
   ]
  },
  {
   "cell_type": "code",
   "execution_count": null,
   "id": "1618dfbf",
   "metadata": {},
   "outputs": [],
   "source": [
    "# Summary\n",
    "\n",
    "# Summary variables\n",
    "min_new_cases = usdf['New_cases'].min()\n",
    "max_new_cases = usdf['New_cases'].max()\n",
    "min_daily_death = usdf['New_deaths'].min()\n",
    "max_daily_death = usdf['New_deaths'].max()\n",
    "total_cases = usdf['New_cases'].sum()\n",
    "total_deaths = usdf['New_deaths'].sum()\n",
    "now = datetime.datetime.now()\n",
    "\n",
    "# Summary disply\n",
    "print('\\t\\tSUMMARY\\n')\n",
    "print(f\"Date and Time: {now.strftime('%Y-%m-%d %H:%M:%S')}\\n\")\n",
    "print(f'The minimum cases in a single day = {min_new_cases:10}')\n",
    "print(f'The maximum cases in a single day = {max_new_cases:10}')\n",
    "print(f'The minimum deaths in a single day = {min_daily_death:9}')\n",
    "print(f'The maximum deaths in a single day = {max_daily_death:9}')\n",
    "print(f'\\nTotal cases = {total_cases:32}')\n",
    "print(f'Total deaths = {total_deaths:31}')\n"
   ]
  },
  {
   "cell_type": "markdown",
   "id": "b54f93e6",
   "metadata": {},
   "source": [
    "#### Top 5 days with the most deaths\n"
   ]
  },
  {
   "cell_type": "code",
   "execution_count": null,
   "id": "c11d0780",
   "metadata": {},
   "outputs": [],
   "source": [
    "usdf.nlargest(5, 'New_deaths')"
   ]
  },
  {
   "cell_type": "markdown",
   "id": "12198319",
   "metadata": {},
   "source": [
    "#### Last 10 days reported"
   ]
  },
  {
   "cell_type": "code",
   "execution_count": null,
   "id": "e17907fd",
   "metadata": {},
   "outputs": [],
   "source": [
    "usdf.tail(10)"
   ]
  },
  {
   "cell_type": "markdown",
   "id": "5d991977",
   "metadata": {},
   "source": [
    "# Charts"
   ]
  },
  {
   "cell_type": "markdown",
   "id": "bcba91ee",
   "metadata": {},
   "source": [
    "#### Daily cases and deaths per day"
   ]
  },
  {
   "cell_type": "code",
   "execution_count": null,
   "id": "e857e8ba",
   "metadata": {},
   "outputs": [],
   "source": [
    "# Drop a single row of negetive deaths data\n",
    "usdf = usdf[usdf['New_deaths'] > 0]\n",
    "\n",
    "# Figure text variables\n",
    "start_date = usdf['Date_reported'].min()\n",
    "end_date = usdf['Date_reported'].max()\n",
    "\n",
    "# Figure and text\n",
    "fig, ax = plt.subplots(nrows=2, ncols=1, figsize=(14,10))\n",
    "fig.text(0.02,0.003,f'source: WHO COVID-19 Global Data ({start_date} - {end_date}) -- {url}')\n",
    "fig.text(0.88,0.98,f\"{now.strftime('%Y-%m-%d %H:%M:%S')}\")\n",
    "fig.text(0.1,0.9,f'Total Cases = {total_cases:10}\\nTotal Deaths = {total_deaths:10}', fontsize=14,\n",
    "        bbox = dict(facecolor='white', alpha=1))\n",
    "\n",
    "# New Cases axes settings\n",
    "ax[0].set(xlabel='Date Reported', ylabel='Million Cases', title='US COVID-19 Cases By Day' )\n",
    "ax[0].grid()\n",
    "ax[0].plot(usdf['Date_reported'],usdf['New_cases'],'b', label='New Cases')\n",
    "ax[0].legend(loc=0, frameon=True)\n",
    "\n",
    "# New Deaths axes settings\n",
    "ax[1].set(xlabel='Date Reported', ylabel='Deaths', title='US COVID-19 Deaths By Day' )\n",
    "ax[1].grid()\n",
    "ax[1].plot(usdf['Date_reported'], usdf['New_deaths'],'r', label='New Deaths')\n",
    "ax[1].legend(loc=0, frameon=True)\n",
    "\n",
    "# x axis label range\n",
    "start, stop = ax[0].get_xlim()\n",
    "plt.setp(ax, xticks=np.arange(start, stop+1, 70))\n",
    "\n",
    "#show the subplots\n",
    "plt.tight_layout()\n",
    "plt.show()"
   ]
  },
  {
   "cell_type": "code",
   "execution_count": null,
   "id": "9d70e2f5",
   "metadata": {},
   "outputs": [],
   "source": [
    "usdf.iplot(x='Date_reported', y='New_cases', color='blue', title='US COVID-19 Cases By Day', xTitle='Date Reported', yTitle='Million Cases')"
   ]
  },
  {
   "cell_type": "code",
   "execution_count": null,
   "id": "521fa07b",
   "metadata": {},
   "outputs": [],
   "source": [
    "usdf.iplot(x='Date_reported', y='New_deaths', color='red', title='US COVID-19 Deaths By Day', xTitle='Date Reported', yTitle='Deaths')"
   ]
  },
  {
   "cell_type": "code",
   "execution_count": null,
   "id": "2ce419c0",
   "metadata": {},
   "outputs": [],
   "source": [
    "fig = usdf.iplot(x='Date_reported', y=['New_deaths', 'New_cases'], color=['red','blue'], title='US COVID-19 Cases and Deaths By Day', xTitle='Date Reported', yTitle='Million Cases')\n"
   ]
  }
 ],
 "metadata": {
  "interpreter": {
   "hash": "e7370f93d1d0cde622a1f8e1c04877d8463912d04d973331ad4851f04de6915a"
  },
  "kernelspec": {
   "display_name": "Python 3 (ipykernel)",
   "language": "python",
   "name": "python3"
  },
  "language_info": {
   "codemirror_mode": {
    "name": "ipython",
    "version": 3
   },
   "file_extension": ".py",
   "mimetype": "text/x-python",
   "name": "python",
   "nbconvert_exporter": "python",
   "pygments_lexer": "ipython3",
   "version": "3.10.5"
  }
 },
 "nbformat": 4,
 "nbformat_minor": 5
}
